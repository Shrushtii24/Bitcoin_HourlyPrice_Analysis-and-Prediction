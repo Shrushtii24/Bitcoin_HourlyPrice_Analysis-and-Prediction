{
  "nbformat": 4,
  "nbformat_minor": 0,
  "metadata": {
    "colab": {
      "provenance": []
    },
    "kernelspec": {
      "name": "python3",
      "display_name": "Python 3"
    },
    "language_info": {
      "name": "python"
    }
  },
  "cells": [
    {
      "cell_type": "code",
      "source": [
        "import kagglehub\n",
        "\n",
        "# Download latest version\n",
        "path = kagglehub.dataset_download(\"gauravkumar2525/bitcoin-market-hourly-trends-2024-2025\")\n",
        "\n",
        "print(\"Path to dataset files:\", path)"
      ],
      "metadata": {
        "colab": {
          "base_uri": "https://localhost:8080/"
        },
        "id": "Djcrt4P_DqHS",
        "outputId": "5e9a3292-e659-425c-8ab2-ea7c19f45bfc"
      },
      "execution_count": 9,
      "outputs": [
        {
          "output_type": "stream",
          "name": "stdout",
          "text": [
            "Downloading from https://www.kaggle.com/api/v1/datasets/download/gauravkumar2525/bitcoin-market-hourly-trends-2024-2025?dataset_version_number=1...\n"
          ]
        },
        {
          "output_type": "stream",
          "name": "stderr",
          "text": [
            "100%|██████████| 199k/199k [00:00<00:00, 55.6MB/s]"
          ]
        },
        {
          "output_type": "stream",
          "name": "stdout",
          "text": [
            "Extracting files...\n",
            "Path to dataset files: /root/.cache/kagglehub/datasets/gauravkumar2525/bitcoin-market-hourly-trends-2024-2025/versions/1\n"
          ]
        },
        {
          "output_type": "stream",
          "name": "stderr",
          "text": [
            "\n"
          ]
        }
      ]
    },
    {
      "cell_type": "code",
      "source": [],
      "metadata": {
        "id": "758paxopFLQ4"
      },
      "execution_count": null,
      "outputs": []
    },
    {
      "cell_type": "code",
      "metadata": {
        "colab": {
          "base_uri": "https://localhost:8080/",
          "height": 258
        },
        "id": "5bbe8725",
        "outputId": "5c5ad7f7-de70-4535-f635-b552d838ceb6"
      },
      "source": [
        "import pandas as pd\n",
        "import os\n",
        "\n",
        "# The path to the downloaded dataset from the previous step\n",
        "dataset_path = \"/root/.cache/kagglehub/datasets/gauravkumar2525/bitcoin-market-hourly-trends-2024-2025/versions/1\"\n",
        "\n",
        "# List files in the dataset directory to find the correct CSV file name\n",
        "try:\n",
        "    files = os.listdir(dataset_path)\n",
        "    print(\"Files in the dataset directory:\", files)\n",
        "\n",
        "    # Assuming the CSV file is the only one or has a specific name pattern\n",
        "    # You might need to adjust the filename below based on the output of the listdir command\n",
        "    csv_file_name = \"btc_hourly_ohlcv.csv\" # Replace with the actual CSV file name if different\n",
        "    csv_file_path = os.path.join(dataset_path, csv_file_name)\n",
        "\n",
        "    df = pd.read_csv(csv_file_path)\n",
        "    print(\"\\nDataset loaded successfully.\")\n",
        "    display(df.head())\n",
        "\n",
        "except FileNotFoundError:\n",
        "    print(f\"Error: The directory {dataset_path} was not found.\")\n",
        "except Exception as e:\n",
        "    print(f\"An error occurred while loading the dataset: {e}\")"
      ],
      "execution_count": 12,
      "outputs": [
        {
          "output_type": "stream",
          "name": "stdout",
          "text": [
            "Files in the dataset directory: ['btc_hourly_ohlcv.csv']\n",
            "\n",
            "Dataset loaded successfully.\n"
          ]
        },
        {
          "output_type": "display_data",
          "data": {
            "text/plain": [
              "             timestamp      open      high       low     close      volume\n",
              "0  2024-03-16 19:00:00  67030.60  67699.00  66890.20  66911.52  3261.62146\n",
              "1  2024-03-16 20:00:00  66911.51  67538.49  66739.81  67129.19  2592.04897\n",
              "2  2024-03-16 21:00:00  67129.19  67241.10  66015.89  66243.28  3430.96214\n",
              "3  2024-03-16 22:00:00  66243.29  66786.44  65804.00  66361.11  2832.31710\n",
              "4  2024-03-16 23:00:00  66361.11  66375.07  64780.00  65300.63  6594.27793"
            ],
            "text/html": [
              "\n",
              "  <div id=\"df-6decc487-c247-48ae-b628-2856e6bc5a6b\" class=\"colab-df-container\">\n",
              "    <div>\n",
              "<style scoped>\n",
              "    .dataframe tbody tr th:only-of-type {\n",
              "        vertical-align: middle;\n",
              "    }\n",
              "\n",
              "    .dataframe tbody tr th {\n",
              "        vertical-align: top;\n",
              "    }\n",
              "\n",
              "    .dataframe thead th {\n",
              "        text-align: right;\n",
              "    }\n",
              "</style>\n",
              "<table border=\"1\" class=\"dataframe\">\n",
              "  <thead>\n",
              "    <tr style=\"text-align: right;\">\n",
              "      <th></th>\n",
              "      <th>timestamp</th>\n",
              "      <th>open</th>\n",
              "      <th>high</th>\n",
              "      <th>low</th>\n",
              "      <th>close</th>\n",
              "      <th>volume</th>\n",
              "    </tr>\n",
              "  </thead>\n",
              "  <tbody>\n",
              "    <tr>\n",
              "      <th>0</th>\n",
              "      <td>2024-03-16 19:00:00</td>\n",
              "      <td>67030.60</td>\n",
              "      <td>67699.00</td>\n",
              "      <td>66890.20</td>\n",
              "      <td>66911.52</td>\n",
              "      <td>3261.62146</td>\n",
              "    </tr>\n",
              "    <tr>\n",
              "      <th>1</th>\n",
              "      <td>2024-03-16 20:00:00</td>\n",
              "      <td>66911.51</td>\n",
              "      <td>67538.49</td>\n",
              "      <td>66739.81</td>\n",
              "      <td>67129.19</td>\n",
              "      <td>2592.04897</td>\n",
              "    </tr>\n",
              "    <tr>\n",
              "      <th>2</th>\n",
              "      <td>2024-03-16 21:00:00</td>\n",
              "      <td>67129.19</td>\n",
              "      <td>67241.10</td>\n",
              "      <td>66015.89</td>\n",
              "      <td>66243.28</td>\n",
              "      <td>3430.96214</td>\n",
              "    </tr>\n",
              "    <tr>\n",
              "      <th>3</th>\n",
              "      <td>2024-03-16 22:00:00</td>\n",
              "      <td>66243.29</td>\n",
              "      <td>66786.44</td>\n",
              "      <td>65804.00</td>\n",
              "      <td>66361.11</td>\n",
              "      <td>2832.31710</td>\n",
              "    </tr>\n",
              "    <tr>\n",
              "      <th>4</th>\n",
              "      <td>2024-03-16 23:00:00</td>\n",
              "      <td>66361.11</td>\n",
              "      <td>66375.07</td>\n",
              "      <td>64780.00</td>\n",
              "      <td>65300.63</td>\n",
              "      <td>6594.27793</td>\n",
              "    </tr>\n",
              "  </tbody>\n",
              "</table>\n",
              "</div>\n",
              "    <div class=\"colab-df-buttons\">\n",
              "\n",
              "  <div class=\"colab-df-container\">\n",
              "    <button class=\"colab-df-convert\" onclick=\"convertToInteractive('df-6decc487-c247-48ae-b628-2856e6bc5a6b')\"\n",
              "            title=\"Convert this dataframe to an interactive table.\"\n",
              "            style=\"display:none;\">\n",
              "\n",
              "  <svg xmlns=\"http://www.w3.org/2000/svg\" height=\"24px\" viewBox=\"0 -960 960 960\">\n",
              "    <path d=\"M120-120v-720h720v720H120Zm60-500h600v-160H180v160Zm220 220h160v-160H400v160Zm0 220h160v-160H400v160ZM180-400h160v-160H180v160Zm440 0h160v-160H620v160ZM180-180h160v-160H180v160Zm440 0h160v-160H620v160Z\"/>\n",
              "  </svg>\n",
              "    </button>\n",
              "\n",
              "  <style>\n",
              "    .colab-df-container {\n",
              "      display:flex;\n",
              "      gap: 12px;\n",
              "    }\n",
              "\n",
              "    .colab-df-convert {\n",
              "      background-color: #E8F0FE;\n",
              "      border: none;\n",
              "      border-radius: 50%;\n",
              "      cursor: pointer;\n",
              "      display: none;\n",
              "      fill: #1967D2;\n",
              "      height: 32px;\n",
              "      padding: 0 0 0 0;\n",
              "      width: 32px;\n",
              "    }\n",
              "\n",
              "    .colab-df-convert:hover {\n",
              "      background-color: #E2EBFA;\n",
              "      box-shadow: 0px 1px 2px rgba(60, 64, 67, 0.3), 0px 1px 3px 1px rgba(60, 64, 67, 0.15);\n",
              "      fill: #174EA6;\n",
              "    }\n",
              "\n",
              "    .colab-df-buttons div {\n",
              "      margin-bottom: 4px;\n",
              "    }\n",
              "\n",
              "    [theme=dark] .colab-df-convert {\n",
              "      background-color: #3B4455;\n",
              "      fill: #D2E3FC;\n",
              "    }\n",
              "\n",
              "    [theme=dark] .colab-df-convert:hover {\n",
              "      background-color: #434B5C;\n",
              "      box-shadow: 0px 1px 3px 1px rgba(0, 0, 0, 0.15);\n",
              "      filter: drop-shadow(0px 1px 2px rgba(0, 0, 0, 0.3));\n",
              "      fill: #FFFFFF;\n",
              "    }\n",
              "  </style>\n",
              "\n",
              "    <script>\n",
              "      const buttonEl =\n",
              "        document.querySelector('#df-6decc487-c247-48ae-b628-2856e6bc5a6b button.colab-df-convert');\n",
              "      buttonEl.style.display =\n",
              "        google.colab.kernel.accessAllowed ? 'block' : 'none';\n",
              "\n",
              "      async function convertToInteractive(key) {\n",
              "        const element = document.querySelector('#df-6decc487-c247-48ae-b628-2856e6bc5a6b');\n",
              "        const dataTable =\n",
              "          await google.colab.kernel.invokeFunction('convertToInteractive',\n",
              "                                                    [key], {});\n",
              "        if (!dataTable) return;\n",
              "\n",
              "        const docLinkHtml = 'Like what you see? Visit the ' +\n",
              "          '<a target=\"_blank\" href=https://colab.research.google.com/notebooks/data_table.ipynb>data table notebook</a>'\n",
              "          + ' to learn more about interactive tables.';\n",
              "        element.innerHTML = '';\n",
              "        dataTable['output_type'] = 'display_data';\n",
              "        await google.colab.output.renderOutput(dataTable, element);\n",
              "        const docLink = document.createElement('div');\n",
              "        docLink.innerHTML = docLinkHtml;\n",
              "        element.appendChild(docLink);\n",
              "      }\n",
              "    </script>\n",
              "  </div>\n",
              "\n",
              "\n",
              "    <div id=\"df-02af2618-26f9-4339-af64-e2da2e91d9b3\">\n",
              "      <button class=\"colab-df-quickchart\" onclick=\"quickchart('df-02af2618-26f9-4339-af64-e2da2e91d9b3')\"\n",
              "                title=\"Suggest charts\"\n",
              "                style=\"display:none;\">\n",
              "\n",
              "<svg xmlns=\"http://www.w3.org/2000/svg\" height=\"24px\"viewBox=\"0 0 24 24\"\n",
              "     width=\"24px\">\n",
              "    <g>\n",
              "        <path d=\"M19 3H5c-1.1 0-2 .9-2 2v14c0 1.1.9 2 2 2h14c1.1 0 2-.9 2-2V5c0-1.1-.9-2-2-2zM9 17H7v-7h2v7zm4 0h-2V7h2v10zm4 0h-2v-4h2v4z\"/>\n",
              "    </g>\n",
              "</svg>\n",
              "      </button>\n",
              "\n",
              "<style>\n",
              "  .colab-df-quickchart {\n",
              "      --bg-color: #E8F0FE;\n",
              "      --fill-color: #1967D2;\n",
              "      --hover-bg-color: #E2EBFA;\n",
              "      --hover-fill-color: #174EA6;\n",
              "      --disabled-fill-color: #AAA;\n",
              "      --disabled-bg-color: #DDD;\n",
              "  }\n",
              "\n",
              "  [theme=dark] .colab-df-quickchart {\n",
              "      --bg-color: #3B4455;\n",
              "      --fill-color: #D2E3FC;\n",
              "      --hover-bg-color: #434B5C;\n",
              "      --hover-fill-color: #FFFFFF;\n",
              "      --disabled-bg-color: #3B4455;\n",
              "      --disabled-fill-color: #666;\n",
              "  }\n",
              "\n",
              "  .colab-df-quickchart {\n",
              "    background-color: var(--bg-color);\n",
              "    border: none;\n",
              "    border-radius: 50%;\n",
              "    cursor: pointer;\n",
              "    display: none;\n",
              "    fill: var(--fill-color);\n",
              "    height: 32px;\n",
              "    padding: 0;\n",
              "    width: 32px;\n",
              "  }\n",
              "\n",
              "  .colab-df-quickchart:hover {\n",
              "    background-color: var(--hover-bg-color);\n",
              "    box-shadow: 0 1px 2px rgba(60, 64, 67, 0.3), 0 1px 3px 1px rgba(60, 64, 67, 0.15);\n",
              "    fill: var(--button-hover-fill-color);\n",
              "  }\n",
              "\n",
              "  .colab-df-quickchart-complete:disabled,\n",
              "  .colab-df-quickchart-complete:disabled:hover {\n",
              "    background-color: var(--disabled-bg-color);\n",
              "    fill: var(--disabled-fill-color);\n",
              "    box-shadow: none;\n",
              "  }\n",
              "\n",
              "  .colab-df-spinner {\n",
              "    border: 2px solid var(--fill-color);\n",
              "    border-color: transparent;\n",
              "    border-bottom-color: var(--fill-color);\n",
              "    animation:\n",
              "      spin 1s steps(1) infinite;\n",
              "  }\n",
              "\n",
              "  @keyframes spin {\n",
              "    0% {\n",
              "      border-color: transparent;\n",
              "      border-bottom-color: var(--fill-color);\n",
              "      border-left-color: var(--fill-color);\n",
              "    }\n",
              "    20% {\n",
              "      border-color: transparent;\n",
              "      border-left-color: var(--fill-color);\n",
              "      border-top-color: var(--fill-color);\n",
              "    }\n",
              "    30% {\n",
              "      border-color: transparent;\n",
              "      border-left-color: var(--fill-color);\n",
              "      border-top-color: var(--fill-color);\n",
              "      border-right-color: var(--fill-color);\n",
              "    }\n",
              "    40% {\n",
              "      border-color: transparent;\n",
              "      border-right-color: var(--fill-color);\n",
              "      border-top-color: var(--fill-color);\n",
              "    }\n",
              "    60% {\n",
              "      border-color: transparent;\n",
              "      border-right-color: var(--fill-color);\n",
              "    }\n",
              "    80% {\n",
              "      border-color: transparent;\n",
              "      border-right-color: var(--fill-color);\n",
              "      border-bottom-color: var(--fill-color);\n",
              "    }\n",
              "    90% {\n",
              "      border-color: transparent;\n",
              "      border-bottom-color: var(--fill-color);\n",
              "    }\n",
              "  }\n",
              "</style>\n",
              "\n",
              "      <script>\n",
              "        async function quickchart(key) {\n",
              "          const quickchartButtonEl =\n",
              "            document.querySelector('#' + key + ' button');\n",
              "          quickchartButtonEl.disabled = true;  // To prevent multiple clicks.\n",
              "          quickchartButtonEl.classList.add('colab-df-spinner');\n",
              "          try {\n",
              "            const charts = await google.colab.kernel.invokeFunction(\n",
              "                'suggestCharts', [key], {});\n",
              "          } catch (error) {\n",
              "            console.error('Error during call to suggestCharts:', error);\n",
              "          }\n",
              "          quickchartButtonEl.classList.remove('colab-df-spinner');\n",
              "          quickchartButtonEl.classList.add('colab-df-quickchart-complete');\n",
              "        }\n",
              "        (() => {\n",
              "          let quickchartButtonEl =\n",
              "            document.querySelector('#df-02af2618-26f9-4339-af64-e2da2e91d9b3 button');\n",
              "          quickchartButtonEl.style.display =\n",
              "            google.colab.kernel.accessAllowed ? 'block' : 'none';\n",
              "        })();\n",
              "      </script>\n",
              "    </div>\n",
              "\n",
              "    </div>\n",
              "  </div>\n"
            ],
            "application/vnd.google.colaboratory.intrinsic+json": {
              "type": "dataframe",
              "summary": "{\n  \"name\": \"    print(f\\\"An error occurred while loading the dataset: {e}\\\")\",\n  \"rows\": 5,\n  \"fields\": [\n    {\n      \"column\": \"timestamp\",\n      \"properties\": {\n        \"dtype\": \"object\",\n        \"num_unique_values\": 5,\n        \"samples\": [\n          \"2024-03-16 20:00:00\",\n          \"2024-03-16 23:00:00\",\n          \"2024-03-16 21:00:00\"\n        ],\n        \"semantic_type\": \"\",\n        \"description\": \"\"\n      }\n    },\n    {\n      \"column\": \"open\",\n      \"properties\": {\n        \"dtype\": \"number\",\n        \"std\": 404.8126895244297,\n        \"min\": 66243.29,\n        \"max\": 67129.19,\n        \"num_unique_values\": 5,\n        \"samples\": [\n          66911.51,\n          66361.11,\n          67129.19\n        ],\n        \"semantic_type\": \"\",\n        \"description\": \"\"\n      }\n    },\n    {\n      \"column\": \"high\",\n      \"properties\": {\n        \"dtype\": \"number\",\n        \"std\": 545.642159890526,\n        \"min\": 66375.07,\n        \"max\": 67699.0,\n        \"num_unique_values\": 5,\n        \"samples\": [\n          67538.49,\n          66375.07,\n          67241.1\n        ],\n        \"semantic_type\": \"\",\n        \"description\": \"\"\n      }\n    },\n    {\n      \"column\": \"low\",\n      \"properties\": {\n        \"dtype\": \"number\",\n        \"std\": 845.0255271587941,\n        \"min\": 64780.0,\n        \"max\": 66890.2,\n        \"num_unique_values\": 5,\n        \"samples\": [\n          66739.81,\n          64780.0,\n          66015.89\n        ],\n        \"semantic_type\": \"\",\n        \"description\": \"\"\n      }\n    },\n    {\n      \"column\": \"close\",\n      \"properties\": {\n        \"dtype\": \"number\",\n        \"std\": 711.9462246757148,\n        \"min\": 65300.63,\n        \"max\": 67129.19,\n        \"num_unique_values\": 5,\n        \"samples\": [\n          67129.19,\n          65300.63,\n          66243.28\n        ],\n        \"semantic_type\": \"\",\n        \"description\": \"\"\n      }\n    },\n    {\n      \"column\": \"volume\",\n      \"properties\": {\n        \"dtype\": \"number\",\n        \"std\": 1628.8728871954002,\n        \"min\": 2592.04897,\n        \"max\": 6594.27793,\n        \"num_unique_values\": 5,\n        \"samples\": [\n          2592.04897,\n          6594.27793,\n          3430.96214\n        ],\n        \"semantic_type\": \"\",\n        \"description\": \"\"\n      }\n    }\n  ]\n}"
            }
          },
          "metadata": {}
        }
      ]
    },
    {
      "cell_type": "code",
      "metadata": {
        "colab": {
          "base_uri": "https://localhost:8080/"
        },
        "id": "46309762",
        "outputId": "d21051cb-fe9a-4525-a638-3f518841f90d"
      },
      "source": [
        "# Check for missing values\n",
        "print(\"Missing values in each column:\")\n",
        "print(df.isnull().sum())\n",
        "\n",
        "# Display data types\n",
        "print(\"\\nData types of each column:\")\n",
        "print(df.dtypes)"
      ],
      "execution_count": 13,
      "outputs": [
        {
          "output_type": "stream",
          "name": "stdout",
          "text": [
            "Missing values in each column:\n",
            "timestamp    0\n",
            "open         0\n",
            "high         0\n",
            "low          0\n",
            "close        0\n",
            "volume       0\n",
            "dtype: int64\n",
            "\n",
            "Data types of each column:\n",
            "timestamp     object\n",
            "open         float64\n",
            "high         float64\n",
            "low          float64\n",
            "close        float64\n",
            "volume       float64\n",
            "dtype: object\n"
          ]
        }
      ]
    },
    {
      "cell_type": "code",
      "metadata": {
        "colab": {
          "base_uri": "https://localhost:8080/",
          "height": 490
        },
        "id": "32a07ecc",
        "outputId": "c21158b5-1160-4f26-fbce-a1028f05f20d"
      },
      "source": [
        "import matplotlib.pyplot as plt\n",
        "\n",
        "# Convert 'timestamp' to datetime\n",
        "df['timestamp'] = pd.to_datetime(df['timestamp'])\n",
        "\n",
        "# Set 'timestamp' as the index for time series plotting\n",
        "df.set_index('timestamp', inplace=True)\n",
        "\n",
        "# Visualize the 'close' price\n",
        "df['close'].plot(figsize=(14, 5), title=\"Hourly Bitcoin Closing Price\")\n",
        "plt.ylabel('Price (USD)')\n",
        "plt.xlabel('Time')\n",
        "plt.show()"
      ],
      "execution_count": 14,
      "outputs": [
        {
          "output_type": "display_data",
          "data": {
            "text/plain": [
              "<Figure size 1400x500 with 1 Axes>"
            ],
            "image/png": "[encoded data removed]"
          },
          "metadata": {}
        }
      ]
    },
    {
      "cell_type": "code",
      "metadata": {
        "colab": {
          "base_uri": "https://localhost:8080/"
        },
        "id": "92dc0200",
        "outputId": "896123bf-1503-4aba-f70b-f4305306e984"
      },
      "source": [
        "# Save the cleaned dataset to a new CSV file\n",
        "output_filename = \"cleaned_bitcoin_hourly_data.csv\"\n",
        "df.to_csv(output_filename)\n",
        "\n",
        "print(f\"Cleaned dataset saved to '{output_filename}'\")"
      ],
      "execution_count": 15,
      "outputs": [
        {
          "output_type": "stream",
          "name": "stdout",
          "text": [
            "Cleaned dataset saved to 'cleaned_bitcoin_hourly_data.csv'\n"
          ]
        }
      ]
    },
    {
      "cell_type": "code",
      "metadata": {
        "colab": {
          "base_uri": "https://localhost:8080/"
        },
        "id": "410a4a1d",
        "outputId": "6c67cde3-5f8a-4c52-e96c-267ec9b5a3c6"
      },
      "source": [
        "from sklearn.preprocessing import MinMaxScaler\n",
        "from sklearn.linear_model import LinearRegression\n",
        "from sklearn.model_selection import train_test_split\n",
        "import joblib\n",
        "import numpy as np\n",
        "\n",
        "# Data Preparation for regression\n",
        "# We'll use 'open', 'high', 'low', and 'volume' to predict 'close'\n",
        "\n",
        "features = ['open', 'high', 'low', 'volume']\n",
        "target = 'close'\n",
        "\n",
        "X = df[features].values\n",
        "y = df[target].values\n",
        "\n",
        "# Scale the features (X)\n",
        "scaler_X = MinMaxScaler()\n",
        "X_scaled = scaler_X.fit_transform(X)\n",
        "\n",
        "# Scale the target variable (y)\n",
        "scaler_y = MinMaxScaler()\n",
        "# Reshape y to be a 2D array as required by MinMaxScaler\n",
        "y_scaled = scaler_y.fit_transform(y.reshape(-1, 1))\n",
        "\n",
        "# Split data into training and testing sets\n",
        "X_train, X_test, y_train, y_test = train_test_split(X_scaled, y_scaled, test_size=0.2, random_state=42)\n",
        "\n",
        "# Train the Linear Regression model\n",
        "linear_regression_model = LinearRegression()\n",
        "linear_regression_model.fit(X_train, y_train)\n",
        "\n",
        "# Save the scalers and the trained model\n",
        "joblib.dump(scaler_X, 'linear_regression_scaler_X.pkl')\n",
        "joblib.dump(scaler_y, 'linear_regression_scaler_y.pkl')\n",
        "joblib.dump(linear_regression_model, 'linear_regression_model.pkl')\n",
        "\n",
        "print(\"Linear Regression model trained and saved.\")"
      ],
      "execution_count": 16,
      "outputs": [
        {
          "output_type": "stream",
          "name": "stdout",
          "text": [
            "Linear Regression model trained and saved.\n"
          ]
        }
      ]
    },
    {
      "cell_type": "code",
      "metadata": {
        "colab": {
          "base_uri": "https://localhost:8080/"
        },
        "id": "83cf4c4c",
        "outputId": "83adebd5-aaa3-44da-ce75-5e7d74368458"
      },
      "source": [
        "from sklearn.metrics import mean_squared_error, r2_score\n",
        "import numpy as np\n",
        "\n",
        "# Make predictions on training and test sets\n",
        "y_train_pred_scaled = linear_regression_model.predict(X_train)\n",
        "y_test_pred_scaled = linear_regression_model.predict(X_test)\n",
        "\n",
        "# Inverse transform the predictions and actual values to original scale\n",
        "y_train_pred = scaler_y.inverse_transform(y_train_pred_scaled)\n",
        "y_test_pred = scaler_y.inverse_transform(y_test_pred_scaled)\n",
        "y_train_orig = scaler_y.inverse_transform(y_train)\n",
        "y_test_orig = scaler_y.inverse_transform(y_test)\n",
        "\n",
        "# Calculate metrics for training set\n",
        "train_mse = mean_squared_error(y_train_orig, y_train_pred)\n",
        "train_rmse = np.sqrt(train_mse)\n",
        "train_r2 = r2_score(y_train_orig, y_train_pred)\n",
        "# Avoid division by zero in MAPE if y_train_orig contains zero\n",
        "train_mape = np.mean(np.abs((y_train_orig - y_train_pred) / y_train_orig)) * 100 if not np.any(y_train_orig == 0) else np.nan\n",
        "\n",
        "\n",
        "# Calculate metrics for test set\n",
        "test_mse = mean_squared_error(y_test_orig, y_test_pred)\n",
        "test_rmse = np.sqrt(test_mse)\n",
        "test_r2 = r2_score(y_test_orig, y_test_pred)\n",
        "# Avoid division by zero in MAPE if y_test_orig contains zero\n",
        "test_mape = np.mean(np.abs((y_test_orig - y_test_pred) / y_test_orig)) * 100 if not np.any(y_test_orig == 0) else np.nan\n",
        "\n",
        "\n",
        "# Print the metrics\n",
        "print(\"Training Metrics:\")\n",
        "print(f\"  Mean Squared Error (MSE): {train_mse:.4f}\")\n",
        "print(f\"  Root Mean Squared Error (RMSE): {train_rmse:.4f}\")\n",
        "print(f\"  R-squared (R2): {train_r2:.4f}\")\n",
        "print(f\"  Mean Absolute Percentage Error (MAPE): {train_mape:.4f}%\")\n",
        "\n",
        "print(\"\\nTest Metrics:\")\n",
        "print(f\"  Mean Squared Error (MSE): {test_mse:.4f}\")\n",
        "print(f\"  Root Mean Squared Error (RMSE): {test_rmse:.4f}\")\n",
        "print(f\"  R-squared (R2): {test_r2:.4f}\")\n",
        "print(f\"  Mean Absolute Percentage Error (MAPE): {test_mape:.4f}%\")"
      ],
      "execution_count": 17,
      "outputs": [
        {
          "output_type": "stream",
          "name": "stdout",
          "text": [
            "Training Metrics:\n",
            "  Mean Squared Error (MSE): 37683.2642\n",
            "  Root Mean Squared Error (RMSE): 194.1218\n",
            "  R-squared (R2): 0.9998\n",
            "  Mean Absolute Percentage Error (MAPE): 0.1715%\n",
            "\n",
            "Test Metrics:\n",
            "  Mean Squared Error (MSE): 36949.1045\n",
            "  Root Mean Squared Error (RMSE): 192.2215\n",
            "  R-squared (R2): 0.9998\n",
            "  Mean Absolute Percentage Error (MAPE): 0.1753%\n"
          ]
        }
      ]
    },
    {
      "cell_type": "code",
      "metadata": {
        "colab": {
          "base_uri": "https://localhost:8080/"
        },
        "id": "57cfc4ef",
        "outputId": "20c1e3f0-0f12-4886-8d72-1a9cf2dbbb97"
      },
      "source": [
        "from sklearn.preprocessing import MinMaxScaler\n",
        "import numpy as np\n",
        "import joblib\n",
        "\n",
        "# Data Preparation for LSTM\n",
        "# We'll use 'open', 'high', 'low', and 'volume' to predict 'close'\n",
        "\n",
        "features = ['open', 'high', 'low', 'volume']\n",
        "target = 'close'\n",
        "\n",
        "X = df[features].values\n",
        "y = df[target].values\n",
        "\n",
        "# Scale the features (X)\n",
        "scaler_X_lstm = MinMaxScaler()\n",
        "X_scaled_lstm = scaler_X_lstm.fit_transform(X)\n",
        "\n",
        "# Scale the target variable (y)\n",
        "scaler_y_lstm = MinMaxScaler()\n",
        "# Reshape y to be a 2D array as required by MinMaxScaler\n",
        "y_scaled_lstm = scaler_y_lstm.fit_transform(y.reshape(-1, 1))\n",
        "\n",
        "# Save the scalers\n",
        "joblib.dump(scaler_X_lstm, 'lstm_scaler_X.pkl')\n",
        "joblib.dump(scaler_y_lstm, 'lstm_scaler_y.pkl')\n",
        "\n",
        "\n",
        "# Function to create sequences for LSTM\n",
        "def create_sequences(X, y, time_steps=1):\n",
        "    Xs, ys = [], []\n",
        "    for i in range(len(X) - time_steps):\n",
        "        v = X[i:(i + time_steps)]\n",
        "        Xs.append(v)\n",
        "        ys.append(y[i + time_steps])\n",
        "    return np.array(Xs), np.array(ys)\n",
        "\n",
        "# Define the number of time steps\n",
        "TIME_STEPS = 24 # Using 24 hours of data to predict the next hour\n",
        "\n",
        "X_sequences, y_sequences = create_sequences(X_scaled_lstm, y_scaled_lstm, TIME_STEPS)\n",
        "\n",
        "print(f\"Shape of X_sequences: {X_sequences.shape}\")\n",
        "print(f\"Shape of y_sequences: {y_sequences.shape}\")"
      ],
      "execution_count": 18,
      "outputs": [
        {
          "output_type": "stream",
          "name": "stdout",
          "text": [
            "Shape of X_sequences: (8736, 24, 4)\n",
            "Shape of y_sequences: (8736, 1)\n"
          ]
        }
      ]
    },
    {
      "cell_type": "code",
      "metadata": {
        "colab": {
          "base_uri": "https://localhost:8080/",
          "height": 344
        },
        "id": "ea0f75e8",
        "outputId": "fea44245-68c2-4b87-db2c-ad5b330a1e85"
      },
      "source": [
        "from tensorflow.keras.models import Sequential\n",
        "from tensorflow.keras.layers import LSTM, Dense, Dropout\n",
        "from tensorflow.keras.metrics import MeanAbsolutePercentageError\n",
        "\n",
        "# Build the LSTM model\n",
        "model_lstm = Sequential()\n",
        "model_lstm.add(LSTM(units=50, return_sequences=True, input_shape=(X_sequences.shape[1], X_sequences.shape[2])))\n",
        "model_lstm.add(Dropout(0.2))\n",
        "model_lstm.add(LSTM(units=50, return_sequences=False))\n",
        "model_lstm.add(Dropout(0.2))\n",
        "model_lstm.add(Dense(units=1))\n",
        "\n",
        "# Compile the model\n",
        "model_lstm.compile(optimizer='adam', loss='mean_squared_error', metrics=[MeanAbsolutePercentageError()])\n",
        "\n",
        "# Display the model summary\n",
        "model_lstm.summary()"
      ],
      "execution_count": 19,
      "outputs": [
        {
          "output_type": "stream",
          "name": "stderr",
          "text": [
            "/usr/local/lib/python3.11/dist-packages/keras/src/layers/rnn/rnn.py:200: UserWarning: Do not pass an `input_shape`/`input_dim` argument to a layer. When using Sequential models, prefer using an `Input(shape)` object as the first layer in the model instead.\n",
            "  super().__init__(**kwargs)\n"
          ]
        },
        {
          "output_type": "display_data",
          "data": {
            "text/plain": [
              "\u001b[1mModel: \"sequential\"\u001b[0m\n"
            ],
            "text/html": [
              "<pre style=\"white-space:pre;overflow-x:auto;line-height:normal;font-family:Menlo,'DejaVu Sans Mono',consolas,'Courier New',monospace\"><span style=\"font-weight: bold\">Model: \"sequential\"</span>\n",
              "</pre>\n"
            ]
          },
          "metadata": {}
        },
        {
          "output_type": "display_data",
          "data": {
            "text/plain": [
              "┏━━━━━━━━━━━━━━━━━━━━━━━━━━━━━━━━━┳━━━━━━━━━━━━━━━━━━━━━━━━┳━━━━━━━━━━━━━━━┓\n",
              "┃\u001b[1m \u001b[0m\u001b[1mLayer (type)                   \u001b[0m\u001b[1m \u001b[0m┃\u001b[1m \u001b[0m\u001b[1mOutput Shape          \u001b[0m\u001b[1m \u001b[0m┃\u001b[1m \u001b[0m\u001b[1m      Param #\u001b[0m\u001b[1m \u001b[0m┃\n",
              "┡━━━━━━━━━━━━━━━━━━━━━━━━━━━━━━━━━╇━━━━━━━━━━━━━━━━━━━━━━━━╇━━━━━━━━━━━━━━━┩\n",
              "│ lstm (\u001b[38;5;33mLSTM\u001b[0m)                     │ (\u001b[38;5;45mNone\u001b[0m, \u001b[38;5;34m24\u001b[0m, \u001b[38;5;34m50\u001b[0m)         │        \u001b[38;5;34m11,000\u001b[0m │\n",
              "├─────────────────────────────────┼────────────────────────┼───────────────┤\n",
              "│ dropout (\u001b[38;5;33mDropout\u001b[0m)               │ (\u001b[38;5;45mNone\u001b[0m, \u001b[38;5;34m24\u001b[0m, \u001b[38;5;34m50\u001b[0m)         │             \u001b[38;5;34m0\u001b[0m │\n",
              "├─────────────────────────────────┼────────────────────────┼───────────────┤\n",
              "│ lstm_1 (\u001b[38;5;33mLSTM\u001b[0m)                   │ (\u001b[38;5;45mNone\u001b[0m, \u001b[38;5;34m50\u001b[0m)             │        \u001b[38;5;34m20,200\u001b[0m │\n",
              "├─────────────────────────────────┼────────────────────────┼───────────────┤\n",
              "│ dropout_1 (\u001b[38;5;33mDropout\u001b[0m)             │ (\u001b[38;5;45mNone\u001b[0m, \u001b[38;5;34m50\u001b[0m)             │             \u001b[38;5;34m0\u001b[0m │\n",
              "├─────────────────────────────────┼────────────────────────┼───────────────┤\n",
              "│ dense (\u001b[38;5;33mDense\u001b[0m)                   │ (\u001b[38;5;45mNone\u001b[0m, \u001b[38;5;34m1\u001b[0m)              │            \u001b[38;5;34m51\u001b[0m │\n",
              "└─────────────────────────────────┴────────────────────────┴───────────────┘\n"
            ],
            "text/html": [
              "<pre style=\"white-space:pre;overflow-x:auto;line-height:normal;font-family:Menlo,'DejaVu Sans Mono',consolas,'Courier New',monospace\">┏━━━━━━━━━━━━━━━━━━━━━━━━━━━━━━━━━┳━━━━━━━━━━━━━━━━━━━━━━━━┳━━━━━━━━━━━━━━━┓\n",
              "┃<span style=\"font-weight: bold\"> Layer (type)                    </span>┃<span style=\"font-weight: bold\"> Output Shape           </span>┃<span style=\"font-weight: bold\">       Param # </span>┃\n",
              "┡━━━━━━━━━━━━━━━━━━━━━━━━━━━━━━━━━╇━━━━━━━━━━━━━━━━━━━━━━━━╇━━━━━━━━━━━━━━━┩\n",
              "│ lstm (<span style=\"color: #0087ff; text-decoration-color: #0087ff\">LSTM</span>)                     │ (<span style=\"color: #00d7ff; text-decoration-color: #00d7ff\">None</span>, <span style=\"color: #00af00; text-decoration-color: #00af00\">24</span>, <span style=\"color: #00af00; text-decoration-color: #00af00\">50</span>)         │        <span style=\"color: #00af00; text-decoration-color: #00af00\">11,000</span> │\n",
              "├─────────────────────────────────┼────────────────────────┼───────────────┤\n",
              "│ dropout (<span style=\"color: #0087ff; text-decoration-color: #0087ff\">Dropout</span>)               │ (<span style=\"color: #00d7ff; text-decoration-color: #00d7ff\">None</span>, <span style=\"color: #00af00; text-decoration-color: #00af00\">24</span>, <span style=\"color: #00af00; text-decoration-color: #00af00\">50</span>)         │             <span style=\"color: #00af00; text-decoration-color: #00af00\">0</span> │\n",
              "├─────────────────────────────────┼────────────────────────┼───────────────┤\n",
              "│ lstm_1 (<span style=\"color: #0087ff; text-decoration-color: #0087ff\">LSTM</span>)                   │ (<span style=\"color: #00d7ff; text-decoration-color: #00d7ff\">None</span>, <span style=\"color: #00af00; text-decoration-color: #00af00\">50</span>)             │        <span style=\"color: #00af00; text-decoration-color: #00af00\">20,200</span> │\n",
              "├─────────────────────────────────┼────────────────────────┼───────────────┤\n",
              "│ dropout_1 (<span style=\"color: #0087ff; text-decoration-color: #0087ff\">Dropout</span>)             │ (<span style=\"color: #00d7ff; text-decoration-color: #00d7ff\">None</span>, <span style=\"color: #00af00; text-decoration-color: #00af00\">50</span>)             │             <span style=\"color: #00af00; text-decoration-color: #00af00\">0</span> │\n",
              "├─────────────────────────────────┼────────────────────────┼───────────────┤\n",
              "│ dense (<span style=\"color: #0087ff; text-decoration-color: #0087ff\">Dense</span>)                   │ (<span style=\"color: #00d7ff; text-decoration-color: #00d7ff\">None</span>, <span style=\"color: #00af00; text-decoration-color: #00af00\">1</span>)              │            <span style=\"color: #00af00; text-decoration-color: #00af00\">51</span> │\n",
              "└─────────────────────────────────┴────────────────────────┴───────────────┘\n",
              "</pre>\n"
            ]
          },
          "metadata": {}
        },
        {
          "output_type": "display_data",
          "data": {
            "text/plain": [
              "\u001b[1m Total params: \u001b[0m\u001b[38;5;34m31,251\u001b[0m (122.07 KB)\n"
            ],
            "text/html": [
              "<pre style=\"white-space:pre;overflow-x:auto;line-height:normal;font-family:Menlo,'DejaVu Sans Mono',consolas,'Courier New',monospace\"><span style=\"font-weight: bold\"> Total params: </span><span style=\"color: #00af00; text-decoration-color: #00af00\">31,251</span> (122.07 KB)\n",
              "</pre>\n"
            ]
          },
          "metadata": {}
        },
        {
          "output_type": "display_data",
          "data": {
            "text/plain": [
              "\u001b[1m Trainable params: \u001b[0m\u001b[38;5;34m31,251\u001b[0m (122.07 KB)\n"
            ],
            "text/html": [
              "<pre style=\"white-space:pre;overflow-x:auto;line-height:normal;font-family:Menlo,'DejaVu Sans Mono',consolas,'Courier New',monospace\"><span style=\"font-weight: bold\"> Trainable params: </span><span style=\"color: #00af00; text-decoration-color: #00af00\">31,251</span> (122.07 KB)\n",
              "</pre>\n"
            ]
          },
          "metadata": {}
        },
        {
          "output_type": "display_data",
          "data": {
            "text/plain": [
              "\u001b[1m Non-trainable params: \u001b[0m\u001b[38;5;34m0\u001b[0m (0.00 B)\n"
            ],
            "text/html": [
              "<pre style=\"white-space:pre;overflow-x:auto;line-height:normal;font-family:Menlo,'DejaVu Sans Mono',consolas,'Courier New',monospace\"><span style=\"font-weight: bold\"> Non-trainable params: </span><span style=\"color: #00af00; text-decoration-color: #00af00\">0</span> (0.00 B)\n",
              "</pre>\n"
            ]
          },
          "metadata": {}
        }
      ]
    },
    {
      "cell_type": "code",
      "metadata": {
        "colab": {
          "base_uri": "https://localhost:8080/",
          "height": 1000
        },
        "id": "c189f8bb",
        "outputId": "ed9fc0f6-78cb-4fde-c830-199a14e367fe"
      },
      "source": [
        "from sklearn.model_selection import train_test_split\n",
        "import matplotlib.pyplot as plt\n",
        "import joblib\n",
        "\n",
        "# Split data into training and validation sets for LSTM\n",
        "X_train_lstm, X_val_lstm, y_train_lstm, y_val_lstm = train_test_split(X_sequences, y_sequences, test_size=0.2, random_state=42)\n",
        "\n",
        "# Train the LSTM model\n",
        "history = model_lstm.fit(X_train_lstm, y_train_lstm, epochs=20, batch_size=20, validation_split=0.2)\n",
        "\n",
        "# Visualize training and validation loss\n",
        "plt.figure(figsize=(12, 6))\n",
        "plt.plot(history.history['loss'], label='Training Loss')\n",
        "plt.plot(history.history['val_loss'], label='Validation Loss')\n",
        "plt.title('LSTM Model Loss')\n",
        "plt.xlabel('Epoch')\n",
        "plt.ylabel('Loss')\n",
        "plt.legend()\n",
        "plt.show()\n",
        "\n",
        "# Print final loss metrics\n",
        "print(\"\\nFinal Training Loss:\", history.history['loss'][-1])\n",
        "print(\"Final Validation Loss:\", history.history['val_loss'][-1])\n",
        "\n",
        "# Save the LSTM model\n",
        "model_lstm.save('lstm_model.h5')\n",
        "print(\"\\nLSTM model saved as 'lstm_model.h5'\")"
      ],
      "execution_count": 20,
      "outputs": [
        {
          "output_type": "stream",
          "name": "stdout",
          "text": [
            "Epoch 1/20\n",
            "\u001b[1m280/280\u001b[0m \u001b[32m━━━━━━━━━━━━━━━━━━━━\u001b[0m\u001b[37m\u001b[0m \u001b[1m13s\u001b[0m 30ms/step - loss: 0.0166 - mean_absolute_percentage_error: 68732.9922 - val_loss: 3.3644e-04 - val_mean_absolute_percentage_error: 4.1013\n",
            "Epoch 2/20\n",
            "\u001b[1m280/280\u001b[0m \u001b[32m━━━━━━━━━━━━━━━━━━━━\u001b[0m\u001b[37m\u001b[0m \u001b[1m8s\u001b[0m 24ms/step - loss: 0.0024 - mean_absolute_percentage_error: 33511.7734 - val_loss: 4.4344e-04 - val_mean_absolute_percentage_error: 4.7114\n",
            "Epoch 3/20\n",
            "\u001b[1m280/280\u001b[0m \u001b[32m━━━━━━━━━━━━━━━━━━━━\u001b[0m\u001b[37m\u001b[0m \u001b[1m8s\u001b[0m 28ms/step - loss: 0.0021 - mean_absolute_percentage_error: 4712.3438 - val_loss: 3.4978e-04 - val_mean_absolute_percentage_error: 4.0857\n",
            "Epoch 4/20\n",
            "\u001b[1m280/280\u001b[0m \u001b[32m━━━━━━━━━━━━━━━━━━━━\u001b[0m\u001b[37m\u001b[0m \u001b[1m10s\u001b[0m 28ms/step - loss: 0.0019 - mean_absolute_percentage_error: 20938.1074 - val_loss: 3.5125e-04 - val_mean_absolute_percentage_error: 4.4300\n",
            "Epoch 5/20\n",
            "\u001b[1m280/280\u001b[0m \u001b[32m━━━━━━━━━━━━━━━━━━━━\u001b[0m\u001b[37m\u001b[0m \u001b[1m9s\u001b[0m 24ms/step - loss: 0.0014 - mean_absolute_percentage_error: 30487.8477 - val_loss: 8.1048e-04 - val_mean_absolute_percentage_error: 8.5897\n",
            "Epoch 6/20\n",
            "\u001b[1m280/280\u001b[0m \u001b[32m━━━━━━━━━━━━━━━━━━━━\u001b[0m\u001b[37m\u001b[0m \u001b[1m10s\u001b[0m 24ms/step - loss: 0.0015 - mean_absolute_percentage_error: 336.8939 - val_loss: 2.7527e-04 - val_mean_absolute_percentage_error: 3.5214\n",
            "Epoch 7/20\n",
            "\u001b[1m280/280\u001b[0m \u001b[32m━━━━━━━━━━━━━━━━━━━━\u001b[0m\u001b[37m\u001b[0m \u001b[1m10s\u001b[0m 24ms/step - loss: 0.0013 - mean_absolute_percentage_error: 3862.8816 - val_loss: 0.0019 - val_mean_absolute_percentage_error: 7.5439\n",
            "Epoch 8/20\n",
            "\u001b[1m280/280\u001b[0m \u001b[32m━━━━━━━━━━━━━━━━━━━━\u001b[0m\u001b[37m\u001b[0m \u001b[1m8s\u001b[0m 27ms/step - loss: 0.0014 - mean_absolute_percentage_error: 37402.0039 - val_loss: 8.3454e-04 - val_mean_absolute_percentage_error: 6.3631\n",
            "Epoch 9/20\n",
            "\u001b[1m280/280\u001b[0m \u001b[32m━━━━━━━━━━━━━━━━━━━━\u001b[0m\u001b[37m\u001b[0m \u001b[1m10s\u001b[0m 26ms/step - loss: 0.0012 - mean_absolute_percentage_error: 6172.9521 - val_loss: 2.7541e-04 - val_mean_absolute_percentage_error: 3.3918\n",
            "Epoch 10/20\n",
            "\u001b[1m280/280\u001b[0m \u001b[32m━━━━━━━━━━━━━━━━━━━━\u001b[0m\u001b[37m\u001b[0m \u001b[1m6s\u001b[0m 22ms/step - loss: 9.5014e-04 - mean_absolute_percentage_error: 9427.7871 - val_loss: 2.4820e-04 - val_mean_absolute_percentage_error: 3.3814\n",
            "Epoch 11/20\n",
            "\u001b[1m280/280\u001b[0m \u001b[32m━━━━━━━━━━━━━━━━━━━━\u001b[0m\u001b[37m\u001b[0m \u001b[1m11s\u001b[0m 25ms/step - loss: 9.8210e-04 - mean_absolute_percentage_error: 8080.4175 - val_loss: 2.5738e-04 - val_mean_absolute_percentage_error: 3.3592\n",
            "Epoch 12/20\n",
            "\u001b[1m280/280\u001b[0m \u001b[32m━━━━━━━━━━━━━━━━━━━━\u001b[0m\u001b[37m\u001b[0m \u001b[1m10s\u001b[0m 25ms/step - loss: 9.1202e-04 - mean_absolute_percentage_error: 2070.4387 - val_loss: 3.7576e-04 - val_mean_absolute_percentage_error: 3.7914\n",
            "Epoch 13/20\n",
            "\u001b[1m280/280\u001b[0m \u001b[32m━━━━━━━━━━━━━━━━━━━━\u001b[0m\u001b[37m\u001b[0m \u001b[1m6s\u001b[0m 22ms/step - loss: 0.0010 - mean_absolute_percentage_error: 34162.2578 - val_loss: 4.5030e-04 - val_mean_absolute_percentage_error: 4.0716\n",
            "Epoch 14/20\n",
            "\u001b[1m280/280\u001b[0m \u001b[32m━━━━━━━━━━━━━━━━━━━━\u001b[0m\u001b[37m\u001b[0m \u001b[1m10s\u001b[0m 22ms/step - loss: 9.6341e-04 - mean_absolute_percentage_error: 69.3974 - val_loss: 4.9568e-04 - val_mean_absolute_percentage_error: 3.8372\n",
            "Epoch 15/20\n",
            "\u001b[1m280/280\u001b[0m \u001b[32m━━━━━━━━━━━━━━━━━━━━\u001b[0m\u001b[37m\u001b[0m \u001b[1m11s\u001b[0m 24ms/step - loss: 7.9210e-04 - mean_absolute_percentage_error: 1236.5139 - val_loss: 2.2550e-04 - val_mean_absolute_percentage_error: 3.2089\n",
            "Epoch 16/20\n",
            "\u001b[1m280/280\u001b[0m \u001b[32m━━━━━━━━━━━━━━━━━━━━\u001b[0m\u001b[37m\u001b[0m \u001b[1m11s\u001b[0m 26ms/step - loss: 7.8342e-04 - mean_absolute_percentage_error: 1379.5211 - val_loss: 2.1362e-04 - val_mean_absolute_percentage_error: 3.1034\n",
            "Epoch 17/20\n",
            "\u001b[1m280/280\u001b[0m \u001b[32m━━━━━━━━━━━━━━━━━━━━\u001b[0m\u001b[37m\u001b[0m \u001b[1m10s\u001b[0m 24ms/step - loss: 7.8599e-04 - mean_absolute_percentage_error: 2036.6669 - val_loss: 2.8182e-04 - val_mean_absolute_percentage_error: 3.7146\n",
            "Epoch 18/20\n",
            "\u001b[1m280/280\u001b[0m \u001b[32m━━━━━━━━━━━━━━━━━━━━\u001b[0m\u001b[37m\u001b[0m \u001b[1m6s\u001b[0m 23ms/step - loss: 7.5407e-04 - mean_absolute_percentage_error: 1796.4684 - val_loss: 1.7904e-04 - val_mean_absolute_percentage_error: 2.7771\n",
            "Epoch 19/20\n",
            "\u001b[1m280/280\u001b[0m \u001b[32m━━━━━━━━━━━━━━━━━━━━\u001b[0m\u001b[37m\u001b[0m \u001b[1m11s\u001b[0m 26ms/step - loss: 7.4470e-04 - mean_absolute_percentage_error: 12993.2900 - val_loss: 2.4145e-04 - val_mean_absolute_percentage_error: 4.2617\n",
            "Epoch 20/20\n",
            "\u001b[1m280/280\u001b[0m \u001b[32m━━━━━━━━━━━━━━━━━━━━\u001b[0m\u001b[37m\u001b[0m \u001b[1m10s\u001b[0m 26ms/step - loss: 7.3840e-04 - mean_absolute_percentage_error: 3178.5747 - val_loss: 2.6048e-04 - val_mean_absolute_percentage_error: 3.1456\n"
          ]
        },
        {
          "output_type": "display_data",
          "data": {
            "text/plain": [
              "<Figure size 1200x600 with 1 Axes>"
            ],
            "image/png": "[encoded data removed]"
          },
          "metadata": {}
        },
        {
          "output_type": "stream",
          "name": "stderr",
          "text": [
            "WARNING:absl:You are saving your model as an HDF5 file via `model.save()` or `keras.saving.save_model(model)`. This file format is considered legacy. We recommend using instead the native Keras format, e.g. `model.save('my_model.keras')` or `keras.saving.save_model(model, 'my_model.keras')`. \n"
          ]
        },
        {
          "output_type": "stream",
          "name": "stdout",
          "text": [
            "\n",
            "Final Training Loss: 0.0007123511168174446\n",
            "Final Validation Loss: 0.0002604787005111575\n",
            "\n",
            "LSTM model saved as 'lstm_model.h5'\n"
          ]
        }
      ]
    },
    {
      "cell_type": "code",
      "metadata": {
        "colab": {
          "base_uri": "https://localhost:8080/"
        },
        "id": "291ce524",
        "outputId": "f92d40bd-da70-49f1-d64c-9f1f48c159be"
      },
      "source": [
        "import pandas as pd\n",
        "import numpy as np\n",
        "import joblib\n",
        "from tensorflow.keras.models import load_model\n",
        "\n",
        "# Define the number of time steps (should be the same as used for training)\n",
        "TIME_STEPS = 24\n",
        "\n",
        "# Select the last 'TIME_STEPS' data points from the original dataframe as new data for prediction\n",
        "# This is for demonstration purposes as we don't have truly 'new' data\n",
        "# In a real scenario, you would load your new data here\n",
        "new_data = df.tail(TIME_STEPS)\n",
        "\n",
        "# Extract features and target from the new data\n",
        "features = ['open', 'high', 'low', 'volume']\n",
        "X_new = new_data[features].values\n",
        "\n",
        "# Load the scalers and the LSTM model\n",
        "try:\n",
        "    scaler_X_lstm = joblib.load('lstm_scaler_X.pkl')\n",
        "    scaler_y_lstm = joblib.load('lstm_scaler_y.pkl')\n",
        "    model_lstm = load_model('lstm_model.h5')\n",
        "    print(\"Scalers and LSTM model loaded successfully.\")\n",
        "except FileNotFoundError:\n",
        "    print(\"Error: Scaler or model files not found. Please ensure 'lstm_scaler_X.pkl', 'lstm_scaler_y.pkl', and 'lstm_model.h5' exist.\")\n",
        "    exit()\n",
        "except Exception as e:\n",
        "    print(f\"An error occurred while loading files: {e}\")\n",
        "    exit()\n",
        "\n",
        "# Scale the new features\n",
        "X_new_scaled = scaler_X_lstm.transform(X_new)\n",
        "\n",
        "# Reshape the new data for LSTM input (samples, time steps, features)\n",
        "# Since we are predicting the next step, we create a single sequence from the last TIME_STEPS\n",
        "if len(X_new_scaled) == TIME_STEPS:\n",
        "    X_new_sequence = X_new_scaled.reshape(1, TIME_STEPS, len(features))\n",
        "\n",
        "    # Make prediction\n",
        "    predictions_scaled = model_lstm.predict(X_new_sequence)\n",
        "\n",
        "    # Inverse transform the prediction to original scale\n",
        "    predictions = scaler_y_lstm.inverse_transform(predictions_scaled)\n",
        "\n",
        "    # Get the timestamp for the prediction (the next hour after the last data point)\n",
        "    last_timestamp = new_data.index[-1]\n",
        "    prediction_timestamp = last_timestamp + pd.Timedelta(hours=1)\n",
        "\n",
        "    # Create a DataFrame for the prediction\n",
        "    df_prediction = pd.DataFrame(predictions, index=[prediction_timestamp], columns=['predicted_close_price'])\n",
        "\n",
        "    print(\"\\nPredicted Bitcoin Closing Price for the next hour:\")\n",
        "    print(df_prediction)\n",
        "\n",
        "else:\n",
        "    print(f\"Not enough data points ({len(X_new_scaled)}) to create a sequence of length {TIME_STEPS}. Need exactly {TIME_STEPS} for this prediction method.\")"
      ],
      "execution_count": 21,
      "outputs": [
        {
          "output_type": "stream",
          "name": "stderr",
          "text": [
            "WARNING:absl:Compiled the loaded model, but the compiled metrics have yet to be built. `model.compile_metrics` will be empty until you train or evaluate the model.\n"
          ]
        },
        {
          "output_type": "stream",
          "name": "stdout",
          "text": [
            "Scalers and LSTM model loaded successfully.\n",
            "\u001b[1m1/1\u001b[0m \u001b[32m━━━━━━━━━━━━━━━━━━━━\u001b[0m\u001b[37m\u001b[0m \u001b[1m0s\u001b[0m 494ms/step\n",
            "\n",
            "Predicted Bitcoin Closing Price for the next hour:\n",
            "                     predicted_close_price\n",
            "2025-03-16 19:00:00           83292.078125\n"
          ]
        }
      ]
    }
  ]
}